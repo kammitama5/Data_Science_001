{
 "cells": [
  {
   "cell_type": "code",
   "execution_count": 8,
   "metadata": {
    "collapsed": true
   },
   "outputs": [],
   "source": [
    "import pandas as pd"
   ]
  },
  {
   "cell_type": "code",
   "execution_count": 9,
   "metadata": {
    "collapsed": false
   },
   "outputs": [],
   "source": [
    "data = pd.read_csv('enrollments.csv')"
   ]
  },
  {
   "cell_type": "code",
   "execution_count": 10,
   "metadata": {
    "collapsed": false
   },
   "outputs": [
    {
     "data": {
      "text/html": [
       "<div>\n",
       "<table border=\"1\" class=\"dataframe\">\n",
       "  <thead>\n",
       "    <tr style=\"text-align: right;\">\n",
       "      <th></th>\n",
       "      <th>account_key</th>\n",
       "      <th>status</th>\n",
       "      <th>join_date</th>\n",
       "      <th>cancel_date</th>\n",
       "      <th>days_to_cancel</th>\n",
       "      <th>is_udacity</th>\n",
       "      <th>is_canceled</th>\n",
       "    </tr>\n",
       "  </thead>\n",
       "  <tbody>\n",
       "    <tr>\n",
       "      <th>0</th>\n",
       "      <td>448</td>\n",
       "      <td>canceled</td>\n",
       "      <td>2014-11-10</td>\n",
       "      <td>2015-01-14</td>\n",
       "      <td>65</td>\n",
       "      <td>True</td>\n",
       "      <td>True</td>\n",
       "    </tr>\n",
       "    <tr>\n",
       "      <th>1</th>\n",
       "      <td>448</td>\n",
       "      <td>canceled</td>\n",
       "      <td>2014-11-05</td>\n",
       "      <td>2014-11-10</td>\n",
       "      <td>5</td>\n",
       "      <td>True</td>\n",
       "      <td>True</td>\n",
       "    </tr>\n",
       "    <tr>\n",
       "      <th>2</th>\n",
       "      <td>448</td>\n",
       "      <td>canceled</td>\n",
       "      <td>2015-01-27</td>\n",
       "      <td>2015-01-27</td>\n",
       "      <td>0</td>\n",
       "      <td>True</td>\n",
       "      <td>True</td>\n",
       "    </tr>\n",
       "    <tr>\n",
       "      <th>3</th>\n",
       "      <td>448</td>\n",
       "      <td>canceled</td>\n",
       "      <td>2014-11-10</td>\n",
       "      <td>2014-11-10</td>\n",
       "      <td>0</td>\n",
       "      <td>True</td>\n",
       "      <td>True</td>\n",
       "    </tr>\n",
       "    <tr>\n",
       "      <th>4</th>\n",
       "      <td>448</td>\n",
       "      <td>current</td>\n",
       "      <td>2015-03-10</td>\n",
       "      <td>NaN</td>\n",
       "      <td>NaN</td>\n",
       "      <td>True</td>\n",
       "      <td>False</td>\n",
       "    </tr>\n",
       "  </tbody>\n",
       "</table>\n",
       "</div>"
      ],
      "text/plain": [
       "   account_key    status   join_date cancel_date  days_to_cancel is_udacity  \\\n",
       "0          448  canceled  2014-11-10  2015-01-14              65       True   \n",
       "1          448  canceled  2014-11-05  2014-11-10               5       True   \n",
       "2          448  canceled  2015-01-27  2015-01-27               0       True   \n",
       "3          448  canceled  2014-11-10  2014-11-10               0       True   \n",
       "4          448   current  2015-03-10         NaN             NaN       True   \n",
       "\n",
       "  is_canceled  \n",
       "0        True  \n",
       "1        True  \n",
       "2        True  \n",
       "3        True  \n",
       "4       False  "
      ]
     },
     "execution_count": 10,
     "metadata": {},
     "output_type": "execute_result"
    }
   ],
   "source": [
    "data.head()"
   ]
  },
  {
   "cell_type": "code",
   "execution_count": 31,
   "metadata": {
    "collapsed": false
   },
   "outputs": [],
   "source": [
    "#breast = read_txt('BREAST.TXT')\n",
    "path = 'BREAST.TXT'\n",
    "#using pandas with a column specification\n"
   ]
  },
  {
   "cell_type": "markdown",
   "metadata": {},
   "source": [
    "# col_specification = [(0, 9), (9, 15)(16, 21)]"
   ]
  },
  {
   "cell_type": "code",
   "execution_count": 63,
   "metadata": {
    "collapsed": false
   },
   "outputs": [],
   "source": [
    "\n",
    "col_specification = [(0,14), (15,22), (23,33),(34,42), (42,45)]\n",
    "data = pd.read_fwf(path, colspecs = col_specification)"
   ]
  },
  {
   "cell_type": "code",
   "execution_count": 64,
   "metadata": {
    "collapsed": false,
    "scrolled": true
   },
   "outputs": [
    {
     "data": {
      "text/html": [
       "<div>\n",
       "<table border=\"1\" class=\"dataframe\">\n",
       "  <thead>\n",
       "    <tr style=\"text-align: right;\">\n",
       "      <th></th>\n",
       "      <th>07000003000000</th>\n",
       "      <th>502201</th>\n",
       "      <th>20601932</th>\n",
       "      <th>02111992</th>\n",
       "      <th>C50</th>\n",
       "    </tr>\n",
       "  </thead>\n",
       "  <tbody>\n",
       "    <tr>\n",
       "      <th>0</th>\n",
       "      <td>7000057000000</td>\n",
       "      <td>502501</td>\n",
       "      <td>20761920</td>\n",
       "      <td>2061996</td>\n",
       "      <td>C50</td>\n",
       "    </tr>\n",
       "    <tr>\n",
       "      <th>1</th>\n",
       "      <td>7000066000000</td>\n",
       "      <td>502501</td>\n",
       "      <td>20701924</td>\n",
       "      <td>2061994</td>\n",
       "      <td>C50</td>\n",
       "    </tr>\n",
       "    <tr>\n",
       "      <th>2</th>\n",
       "      <td>7000078000000</td>\n",
       "      <td>502201</td>\n",
       "      <td>20591917</td>\n",
       "      <td>2031977</td>\n",
       "      <td>C50</td>\n",
       "    </tr>\n",
       "    <tr>\n",
       "      <th>3</th>\n",
       "      <td>7000091000000</td>\n",
       "      <td>502501</td>\n",
       "      <td>20651946</td>\n",
       "      <td>2102011</td>\n",
       "      <td>C50</td>\n",
       "    </tr>\n",
       "    <tr>\n",
       "      <th>4</th>\n",
       "      <td>7000109000000</td>\n",
       "      <td>502502</td>\n",
       "      <td>20611924</td>\n",
       "      <td>2051986</td>\n",
       "      <td>C50</td>\n",
       "    </tr>\n",
       "  </tbody>\n",
       "</table>\n",
       "</div>"
      ],
      "text/plain": [
       "   07000003000000  502201  20601932  02111992  C50\n",
       "0   7000057000000  502501  20761920   2061996  C50\n",
       "1   7000066000000  502501  20701924   2061994  C50\n",
       "2   7000078000000  502201  20591917   2031977  C50\n",
       "3   7000091000000  502501  20651946   2102011  C50\n",
       "4   7000109000000  502502  20611924   2051986  C50"
      ]
     },
     "execution_count": 64,
     "metadata": {},
     "output_type": "execute_result"
    }
   ],
   "source": [
    "data.head()"
   ]
  },
  {
   "cell_type": "code",
   "execution_count": 65,
   "metadata": {
    "collapsed": true
   },
   "outputs": [],
   "source": [
    "# name files in iteration\n",
    "# use df['column_name]=data['text'].str(0:4)\n",
    "# set each column\n",
    "# print i to file"
   ]
  },
  {
   "cell_type": "code",
   "execution_count": null,
   "metadata": {
    "collapsed": true
   },
   "outputs": [],
   "source": []
  }
 ],
 "metadata": {
  "kernelspec": {
   "display_name": "Python 2",
   "language": "python",
   "name": "python2"
  },
  "language_info": {
   "codemirror_mode": {
    "name": "ipython",
    "version": 2
   },
   "file_extension": ".py",
   "mimetype": "text/x-python",
   "name": "python",
   "nbconvert_exporter": "python",
   "pygments_lexer": "ipython2",
   "version": "2.7.12"
  }
 },
 "nbformat": 4,
 "nbformat_minor": 1
}
